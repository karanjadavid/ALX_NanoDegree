{
 "cells": [
  {
   "cell_type": "markdown",
   "metadata": {},
   "source": [
    "# 1 Data Visualization Design"
   ]
  },
  {
   "cell_type": "markdown",
   "metadata": {},
   "source": [
    "## Table of Contents\n",
    "\n",
    "1. [Data Visualizion Design](#1.-Data-Visualization-Design)\n",
    "    \n",
    "    1.1 [Reasons for Data Visualization](#1.1.-Reasons-for-Data-Visualization)\n",
    "    \n",
    "    1.2 [Good VS Bad Visuals](#1.2-Good-VSBad-Visuals)\n",
    "    \n",
    "    1.3 [Levels of Measurement](#1.3-Levels-of-Measurement)\n",
    "    \n",
    "    1.4 [Visual Encodings](#1.4-Visual-Encodings)\n",
    "    \n",
    "    1.5 [Chart Junk](#1.5-Chart-Junk)\n",
    "    \n",
    "    1.6 [Data Ink Ratio](#1.6-Data-Ink-Ratio)\n",
    "    \n",
    "    1.7 [Design Integrity](#1.7-Design-Integrity)\n",
    "    \n",
    "    1.8 [Using Color](#1.8-Using-Color)\n",
    "    \n",
    "    1.8.1 [Designing for color Blindness](#1.8.1-Designing-for-color-Blindness)"
   ]
  },
  {
   "cell_type": "markdown",
   "metadata": {},
   "source": [
    "## 1.1 Reasons for Data Visualization"
   ]
  },
  {
   "cell_type": "markdown",
   "metadata": {},
   "source": [
    "There are two main reasons for creating visuals using data:\n",
    "\n",
    "1. `Exploratory` analysis is done when you are searching for insights. These visualizations don't need to be perfect. You are using plots to find insights, but they don't need to be aesthetically appealing. You are the consumer of these plots, and you need to be able to find the answer to your questions from these plots.\n",
    "\n",
    "2. `Explanatory` analysis is done when you are providing your results for others. These visualizations need to provide you the emphasis necessary to convey your message. They should be accurate, insightful, and visually appealing.\n",
    "\n",
    "The five steps of the data analysis process:\n",
    "- Extract - Obtain the data from a spreadsheet, SQL, the web, etc.\n",
    "- Clean - Here, we could use exploratory visuals.\n",
    "- Explore - Here, we use exploratory visuals.\n",
    "- Analyze - Here, we might use either exploratory or explanatory visuals.\n",
    "- Share - Here is where explanatory visuals live."
   ]
  },
  {
   "cell_type": "markdown",
   "metadata": {},
   "source": [
    "## 1.2 Good VS Bad Visuals\n",
    "\n",
    "1. Bad Visualizations are:\n",
    "\n",
    "- Misleading.\n",
    "- Hides or Distracts desired message."
   ]
  },
  {
   "cell_type": "markdown",
   "metadata": {},
   "source": [
    "## 1.3 Levels of Measurement\n",
    "\n",
    "To choose an appropriate plot type or method of analysis for your data, you need to understand the types of data you have. \n",
    "\n",
    "**Qualitative** or **categorical** types (non-numeric types)\n",
    "1. Nominal data: pure labels without inherent order (no label is intrinsically greater or less than any other). Eg, movie genres such as Horror, Comedy, Action.\n",
    "2. Ordinal data: labels with an intrinsic order or ranking (comparison operations can be made between values, but the magnitude of differences are not be well-defined) Eg Strongly Disagree, Disagree, Neutral, Agree, Strongly Agree.\n",
    "\n",
    "**Quantitative** or **numeric** types\n",
    "\n",
    "3. Interval data: numeric values where absolute differences are meaningful (addition and subtraction operations can be made)\n",
    "4. Ratio data: numeric values where relative differences are meaningful (multiplication and division operations can be made)\n",
    "\n",
    "All quantitative-type variables also come in one of two varieties: discrete and continuous.\n",
    "\n",
    "- *Discrete quantitative* variables can only take on a specific set values at some maximum level of precision.\n",
    "- *Continuous quantitative* variables can (hypothetically) take on values to any level of precision."
   ]
  },
  {
   "cell_type": "markdown",
   "metadata": {},
   "source": [
    "## 1.4 Visual Encodings\n",
    "\n",
    "Visual encodings are mappings from data to display elements. Display elements include:\n",
    "\n",
    "- position on the x axis or y axis, \n",
    "- size of points or bars, \n",
    "- shape of points, \n",
    "- texture, \n",
    "- angle, \n",
    "- length etc.\n",
    "\n",
    "\n",
    "Humans are able to best understand data encoded with **positional changes** (differences in x- and y- position as we see with scatterplots) and **length changes** (differences in box heights as we see with bar charts and histograms).\n"
   ]
  },
  {
   "cell_type": "markdown",
   "metadata": {},
   "source": [
    "## 1.5 Chart Junk\n",
    "\n",
    "Chart junk refers to all visual elements in charts and graphs that are not necessary to comprehend the information represented on the graph or that distract the viewer from this information.\n",
    "\n",
    "Examples of chart junk include:\n",
    "\n",
    "1. Heavy grid lines\n",
    "2. Unnecessary text\n",
    "3. Pictures surrounding the visual\n",
    "4. Shading or 3d components\n",
    "5. Ornamented chart axes"
   ]
  },
  {
   "cell_type": "markdown",
   "metadata": {},
   "source": [
    "## 1.6 Data Ink Ratio\n",
    "\n",
    "The Data to ink ratio is the ratio of the amount of ink used to describe the data, to the total amount of ink in the visual. The higher the DtI ratio, the better. Limiting Junk increases Data to Ink Ratio. "
   ]
  },
  {
   "cell_type": "markdown",
   "metadata": {},
   "source": [
    "## 1.7 Design Integrity\n",
    "\n",
    "How to spot visualization lies.\n",
    "- Truncated axis - Bar charts use length as their visual cue, so when someone makes the length shorter using the same data by truncating the value axis, the chart dramatizes differences. Someone wants to show a bigger change than is actually there.\n",
    "- Dual axis - By using dual axes, the magnitude can shrink or expand for each metric. This is typically done to imply correlation and causation. “Because of this, this other thing happened.\n",
    "- Seeing only absolutes - Everything is relative. You can’t say a town is more dangerous than another because the first one had two robberies and the other only had one. What if the first town has 1,000 times the population that of the first? It is often more useful to think in terms of percentages and rates rather than absolutes and totals.\n",
    "- limited scope - It’s easy to cherrypick dates and timeframes to fit a specific narrative. So consider history, what usually happens, and proper baselines to compare against. Interesting things can show up when you look at the big picture instead of just a fraction.\n",
    "- Odd choice of binning - Instead of showing the full range of variation in a dataset, someone might try to oversimplify a complex pattern. It’s easy to transform a continuous variable into a categorical one. Broad binning can be useful, but complexity is often what makes things worth looking at. Be wary of oversimplification.\n",
    "- Area sized by single dimension - If area is the visual encoding, then one has to size by area. When someone linearly sizes an area-based encoding, like a square or a circle, they might be sniffing for dramatics.\n"
   ]
  },
  {
   "cell_type": "markdown",
   "metadata": {},
   "source": [
    "## 1.8 Using Color\n",
    "\n",
    "Color can both help and hurt a data visualization. Three tips for using color effectively.\n",
    "\n",
    "1. Before adding color to a visualization, start with black and white.\n",
    "\n",
    "2. When using color, use less intense colors such as natural colors or pastels - not all the colors of the rainbow, which is the default in many software applications. You can add gray value to bright colors to make them less vibrant. Colors with higher gray values have a softer feel and the eye can concentrate on them for longer periods of time. \n",
    "\n",
    "3. Color for communication. Use color to highlight your message and separate groups of interest. Don't add color just to have color in your visualization.\n",
    "\n",
    "### 1.8.1 Designing for color Blindness.\n",
    "To be sensitive to those with colorblindness, you should use color palettes that do not move from **red to green** without using another element to distinguish this change like shape, position, or lightness. Both of these colors appear in a yellow tint to individuals with the most common types of colorblindness. Instead, use colors on a **blue to orange** palette."
   ]
  }
 ],
 "metadata": {
  "kernelspec": {
   "display_name": "Python 3.9.7 ('base')",
   "language": "python",
   "name": "python3"
  },
  "language_info": {
   "name": "python",
   "version": "3.9.7"
  },
  "orig_nbformat": 4,
  "vscode": {
   "interpreter": {
    "hash": "605801abee6af3da22b3d36c409e2e472ae4fe6373a00d3bff07b054a2f34ed7"
   }
  }
 },
 "nbformat": 4,
 "nbformat_minor": 2
}
